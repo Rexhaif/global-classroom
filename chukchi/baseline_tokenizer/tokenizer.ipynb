{
 "cells": [
  {
   "cell_type": "code",
   "execution_count": 1,
   "metadata": {
    "collapsed": true
   },
   "outputs": [],
   "source": [
    "import pandas as pd\n",
    "from tokenizers import SentencePieceBPETokenizer"
   ]
  },
  {
   "cell_type": "code",
   "execution_count": 2,
   "outputs": [
    {
     "data": {
      "text/plain": "                                                   0  \\\n0                         амаравкэваратэн таа’койӈын   \n1  йъйыӄык ныӄэԓпэратӄэн вытэчгытрыӄэргыԓьын йыӈэ...   \n2  мыкыӈ нывытрэтӄин чеԓгатвытрыԓьо ынӄорыым вытэ...   \n3                  ынӄорыым ныӄэргавыӈоӄэн нычеԓгъав   \n4  ыԓьыԓе ыннаны гэнниӈэвԓин аэродром эԓгыкъаԓейп...   \n\n                                                   1  \n0                   а>маравкэва>ра>тэн таа>’ко>йӈы>н  \n1  йъйыӄы>к ны>ӄэԓпэр>ат>ӄэн вытэч>гытры>ӄэргы>ԓь...  \n2  мык>ы>ӈ ны>вытрэт>ӄин чеԓг>ат>вытры>ԓь>о ынӄор...  \n3           ынӄор>ыым ны>ӄэргав>ыӈо>ӄэн ны>чеԓ>гъа>в  \n4  ы>ԓьы>ԓе ыннаны гэ>нн>иӈэв>ԓин аэродр>ом эԓгы>...  ",
      "text/html": "<div>\n<style scoped>\n    .dataframe tbody tr th:only-of-type {\n        vertical-align: middle;\n    }\n\n    .dataframe tbody tr th {\n        vertical-align: top;\n    }\n\n    .dataframe thead th {\n        text-align: right;\n    }\n</style>\n<table border=\"1\" class=\"dataframe\">\n  <thead>\n    <tr style=\"text-align: right;\">\n      <th></th>\n      <th>0</th>\n      <th>1</th>\n    </tr>\n  </thead>\n  <tbody>\n    <tr>\n      <th>0</th>\n      <td>амаравкэваратэн таа’койӈын</td>\n      <td>а&gt;маравкэва&gt;ра&gt;тэн таа&gt;’ко&gt;йӈы&gt;н</td>\n    </tr>\n    <tr>\n      <th>1</th>\n      <td>йъйыӄык ныӄэԓпэратӄэн вытэчгытрыӄэргыԓьын йыӈэ...</td>\n      <td>йъйыӄы&gt;к ны&gt;ӄэԓпэр&gt;ат&gt;ӄэн вытэч&gt;гытры&gt;ӄэргы&gt;ԓь...</td>\n    </tr>\n    <tr>\n      <th>2</th>\n      <td>мыкыӈ нывытрэтӄин чеԓгатвытрыԓьо ынӄорыым вытэ...</td>\n      <td>мык&gt;ы&gt;ӈ ны&gt;вытрэт&gt;ӄин чеԓг&gt;ат&gt;вытры&gt;ԓь&gt;о ынӄор...</td>\n    </tr>\n    <tr>\n      <th>3</th>\n      <td>ынӄорыым ныӄэргавыӈоӄэн нычеԓгъав</td>\n      <td>ынӄор&gt;ыым ны&gt;ӄэргав&gt;ыӈо&gt;ӄэн ны&gt;чеԓ&gt;гъа&gt;в</td>\n    </tr>\n    <tr>\n      <th>4</th>\n      <td>ыԓьыԓе ыннаны гэнниӈэвԓин аэродром эԓгыкъаԓейп...</td>\n      <td>ы&gt;ԓьы&gt;ԓе ыннаны гэ&gt;нн&gt;иӈэв&gt;ԓин аэродр&gt;ом эԓгы&gt;...</td>\n    </tr>\n  </tbody>\n</table>\n</div>"
     },
     "execution_count": 2,
     "metadata": {},
     "output_type": "execute_result"
    }
   ],
   "source": [
    "df = pd.read_csv('../data/train_dev.tsv', header=None, sep='\\t')\n",
    "df.dropna(inplace=True)\n",
    "df.head()"
   ],
   "metadata": {
    "collapsed": false,
    "pycharm": {
     "name": "#%%\n"
    }
   }
  },
  {
   "cell_type": "code",
   "execution_count": 3,
   "outputs": [
    {
     "data": {
      "text/plain": "                                                   0  \\\n0                         амаравкэваратэн таа’койӈын   \n1  йъйыӄык ныӄэԓпэратӄэн вытэчгытрыӄэргыԓьын йыӈэ...   \n2  мыкыӈ нывытрэтӄин чеԓгатвытрыԓьо ынӄорыым вытэ...   \n3                  ынӄорыым ныӄэргавыӈоӄэн нычеԓгъав   \n4  ыԓьыԓе ыннаны гэнниӈэвԓин аэродром эԓгыкъаԓейп...   \n\n                                                   1  \\\n0                   а>маравкэва>ра>тэн таа>’ко>йӈы>н   \n1  йъйыӄы>к ны>ӄэԓпэр>ат>ӄэн вытэч>гытры>ӄэргы>ԓь...   \n2  мык>ы>ӈ ны>вытрэт>ӄин чеԓг>ат>вытры>ԓь>о ынӄор...   \n3           ынӄор>ыым ны>ӄэргав>ыӈо>ӄэн ны>чеԓ>гъа>в   \n4  ы>ԓьы>ԓе ыннаны гэ>нн>иӈэв>ԓин аэродр>ом эԓгы>...   \n\n                                                text  \n0                       # амаравкэваратэн таа’койӈын  \n1  # йъйыӄык ныӄэԓпэратӄэн вытэчгытрыӄэргыԓьын йы...  \n2  # мыкыӈ нывытрэтӄин чеԓгатвытрыԓьо ынӄорыым вы...  \n3                # ынӄорыым ныӄэргавыӈоӄэн нычеԓгъав  \n4  # ыԓьыԓе ыннаны гэнниӈэвԓин аэродром эԓгыкъаԓе...  ",
      "text/html": "<div>\n<style scoped>\n    .dataframe tbody tr th:only-of-type {\n        vertical-align: middle;\n    }\n\n    .dataframe tbody tr th {\n        vertical-align: top;\n    }\n\n    .dataframe thead th {\n        text-align: right;\n    }\n</style>\n<table border=\"1\" class=\"dataframe\">\n  <thead>\n    <tr style=\"text-align: right;\">\n      <th></th>\n      <th>0</th>\n      <th>1</th>\n      <th>text</th>\n    </tr>\n  </thead>\n  <tbody>\n    <tr>\n      <th>0</th>\n      <td>амаравкэваратэн таа’койӈын</td>\n      <td>а&gt;маравкэва&gt;ра&gt;тэн таа&gt;’ко&gt;йӈы&gt;н</td>\n      <td># амаравкэваратэн таа’койӈын</td>\n    </tr>\n    <tr>\n      <th>1</th>\n      <td>йъйыӄык ныӄэԓпэратӄэн вытэчгытрыӄэргыԓьын йыӈэ...</td>\n      <td>йъйыӄы&gt;к ны&gt;ӄэԓпэр&gt;ат&gt;ӄэн вытэч&gt;гытры&gt;ӄэргы&gt;ԓь...</td>\n      <td># йъйыӄык ныӄэԓпэратӄэн вытэчгытрыӄэргыԓьын йы...</td>\n    </tr>\n    <tr>\n      <th>2</th>\n      <td>мыкыӈ нывытрэтӄин чеԓгатвытрыԓьо ынӄорыым вытэ...</td>\n      <td>мык&gt;ы&gt;ӈ ны&gt;вытрэт&gt;ӄин чеԓг&gt;ат&gt;вытры&gt;ԓь&gt;о ынӄор...</td>\n      <td># мыкыӈ нывытрэтӄин чеԓгатвытрыԓьо ынӄорыым вы...</td>\n    </tr>\n    <tr>\n      <th>3</th>\n      <td>ынӄорыым ныӄэргавыӈоӄэн нычеԓгъав</td>\n      <td>ынӄор&gt;ыым ны&gt;ӄэргав&gt;ыӈо&gt;ӄэн ны&gt;чеԓ&gt;гъа&gt;в</td>\n      <td># ынӄорыым ныӄэргавыӈоӄэн нычеԓгъав</td>\n    </tr>\n    <tr>\n      <th>4</th>\n      <td>ыԓьыԓе ыннаны гэнниӈэвԓин аэродром эԓгыкъаԓейп...</td>\n      <td>ы&gt;ԓьы&gt;ԓе ыннаны гэ&gt;нн&gt;иӈэв&gt;ԓин аэродр&gt;ом эԓгы&gt;...</td>\n      <td># ыԓьыԓе ыннаны гэнниӈэвԓин аэродром эԓгыкъаԓе...</td>\n    </tr>\n  </tbody>\n</table>\n</div>"
     },
     "execution_count": 3,
     "metadata": {},
     "output_type": "execute_result"
    }
   ],
   "source": [
    "df['text'] = df[0].apply(lambda x: '# ' + str(x))\n",
    "df.head()"
   ],
   "metadata": {
    "collapsed": false,
    "pycharm": {
     "name": "#%%\n"
    }
   }
  },
  {
   "cell_type": "code",
   "execution_count": 4,
   "outputs": [],
   "source": [
    "with open('texts.txt', 'w', encoding='utf-8') as f:\n",
    "    f.write(' '.join(list(df['text'])))"
   ],
   "metadata": {
    "collapsed": false,
    "pycharm": {
     "name": "#%%\n"
    }
   }
  },
  {
   "cell_type": "code",
   "execution_count": null,
   "outputs": [],
   "source": [
    "tokenizer = SentencePieceBPETokenizer()\n",
    "tokenizer.train(['texts.txt'],\n",
    "                special_tokens=['#'],\n",
    "                vocab_size=30000)\n",
    "tokenizer"
   ],
   "metadata": {
    "collapsed": false,
    "pycharm": {
     "name": "#%%\n",
     "is_executing": true
    }
   }
  },
  {
   "cell_type": "code",
   "execution_count": null,
   "outputs": [],
   "source": [
    "tokenizer.save()"
   ],
   "metadata": {
    "collapsed": false,
    "pycharm": {
     "name": "#%%\n",
     "is_executing": true
    }
   }
  },
  {
   "cell_type": "code",
   "execution_count": null,
   "outputs": [],
   "source": [],
   "metadata": {
    "collapsed": false,
    "pycharm": {
     "name": "#%%\n"
    }
   }
  }
 ],
 "metadata": {
  "kernelspec": {
   "display_name": "Python 3",
   "language": "python",
   "name": "python3"
  },
  "language_info": {
   "codemirror_mode": {
    "name": "ipython",
    "version": 2
   },
   "file_extension": ".py",
   "mimetype": "text/x-python",
   "name": "python",
   "nbconvert_exporter": "python",
   "pygments_lexer": "ipython2",
   "version": "2.7.6"
  }
 },
 "nbformat": 4,
 "nbformat_minor": 0
}